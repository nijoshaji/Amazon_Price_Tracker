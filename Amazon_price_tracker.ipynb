{
 "cells": [
  {
   "cell_type": "code",
   "execution_count": 3,
   "id": "4c878771-b452-46d5-af06-be8f1519c845",
   "metadata": {},
   "outputs": [],
   "source": [
    "# Import modules\n",
    "\n",
    "import pandas as pd\n",
    "from bs4 import BeautifulSoup\n",
    "import requests\n",
    "import datetime\n",
    "import time\n",
    "import csv"
   ]
  },
  {
   "cell_type": "code",
   "execution_count": 5,
   "id": "c1b06d3c-ab00-4a09-8591-57285894f1a2",
   "metadata": {},
   "outputs": [],
   "source": [
    "## Create a csv file to store the data\n",
    "\n",
    "header = ['Product', 'Price', 'Rating', 'Date']\n",
    "\n",
    "with open('price_track1.csv','w') as f:\n",
    "    writer = csv.writer(f)\n",
    "    writer.writerow(header)"
   ]
  },
  {
   "cell_type": "code",
   "execution_count": 7,
   "id": "53181efc-1a63-4673-8ac4-e3403b996f1f",
   "metadata": {},
   "outputs": [],
   "source": [
    "## defining function to extract information from webpage\n",
    "\n",
    "\n",
    "def amazon_price_checker():\n",
    "\n",
    "    url = 'https://www.amazon.in/One-Piece-Vol-101/dp/197473420X/ref=sr_1_1?crid=1DWEZV4HJ44QC&dib=eyJ2IjoiMSJ9.4EvtjME7RPWGZzRoaLt4dxzrDJewAVsJA0vPEa0iWhN-yc_7XckjM6gdbyCN57RkfJXA9YjLFIeyjIiC4cBt1NVwoYPExC5WDfK6XO-k4L3nKsN2agcinjzdS3jpCjwy8bCAp-VB3JrhjlkbTyMFWJxCwYJy98tackjJqtCSlxcKnAVoTG3OcekXQOQxlSsYYvflvRnBPt-g2QmHawWXA07Pb3znqzKnFLRN4pOtWaY.SWzv2fbDCui-momONDYvf6eRk-GAnulUmnbVIbfvga4&dib_tag=se&keywords=one+piece+manga+vol+101&qid=1737014554&sprefix=one+piece+manga+vol+%2Caps%2C380&sr=8-1'\n",
    "\n",
    "    headers = {\"User-Agent\": \"Mozilla/5.0 (Windows NT 10.0; Win64; x64) AppleWebKit/537.36 (KHTML, like Gecko) Chrome/131.0.0.0 Safari/537.36 Edg/131.0.0.0\", \"Accept-Encoding\":\"gzip, deflate\", \"Accept\":\"text/html,application/xhtml+xml,application/xml;q=0.9,*/*;q=0.8\", \"DNT\":\"1\",\"Connection\":\"close\", \"Upgrade-Insecure-Requests\":\"1\"}\n",
    "\n",
    "    page = requests.get(url, headers = headers) \n",
    "\n",
    "    soup1 = BeautifulSoup(page.content, 'html.parser')\n",
    "    soup2 = BeautifulSoup(soup1.prettify(), 'html.parser')\n",
    "    \n",
    "    title = soup2.find(id = 'productTitle').get_text() \n",
    "    price = soup2.find('span', { 'class' : 'a-price-whole'}).get_text()\n",
    "    rating = soup2.find('span', { 'class' : 'a-icon-alt'}).get_text()\n",
    "\n",
    "    title = title.strip()\n",
    "    price = price.strip()\n",
    "    rating = rating.strip()[:3]    \n",
    "\n",
    "    date_stamp = datetime.date.today()\n",
    "\n",
    "    header = ['Title','Price','Rating','Date']\n",
    "    row_data = [title, price, rating, date_stamp]\n",
    "\n",
    "    with open('price_track1.csv', 'a+', newline = '') as f:\n",
    "        writer = csv.writer(f)\n",
    "        writer.writerow(row_data)"
   ]
  },
  {
   "cell_type": "code",
   "execution_count": null,
   "id": "dd39a9b5-8eac-41a8-bf64-221837c8407d",
   "metadata": {},
   "outputs": [],
   "source": [
    "## set a timer to call the function\n",
    "\n",
    "amazon_price_checker()"
   ]
  }
 ],
 "metadata": {
  "kernelspec": {
   "display_name": "Python 3 (ipykernel)",
   "language": "python",
   "name": "python3"
  },
  "language_info": {
   "codemirror_mode": {
    "name": "ipython",
    "version": 3
   },
   "file_extension": ".py",
   "mimetype": "text/x-python",
   "name": "python",
   "nbconvert_exporter": "python",
   "pygments_lexer": "ipython3",
   "version": "3.12.4"
  }
 },
 "nbformat": 4,
 "nbformat_minor": 5
}
